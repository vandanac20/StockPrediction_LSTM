{
 "cells": [
  {
   "cell_type": "code",
   "execution_count": 1,
   "id": "6ad0dd43",
   "metadata": {},
   "outputs": [],
   "source": [
    "import pandas as pd\n",
    "import numpy as np\n",
    "import seaborn as sns\n",
    "import matplotlib.pyplot as plt\n",
    "%matplotlib inline\n",
    "import tensorflow as tf\n",
    "\n",
    "from sklearn.preprocessing import MinMaxScaler\n",
    "from sklearn.metrics import mean_absolute_error\n",
    "from keras.models import Sequential,load_model\n",
    "from keras.layers import LSTM,Dense,Dropout\n",
    "\n",
    "import warnings\n",
    "warnings.filterwarnings(\"ignore\")"
   ]
  },
  {
   "cell_type": "code",
   "execution_count": 2,
   "id": "ba40a491",
   "metadata": {},
   "outputs": [],
   "source": [
    "df=pd.read_csv(r'C:\\Users\\system administrator\\Downloads\\netflix.csv', encoding='unicode_escape' )"
   ]
  },
  {
   "cell_type": "code",
   "execution_count": 3,
   "id": "67625d4b",
   "metadata": {},
   "outputs": [],
   "source": [
    "class color:\n",
    "    GREEN,RED='\\033[92m' , '\\033[91m'\n",
    "    BOLD,UNDERLINE,END='\\033[1m' , '\\033[4m' , '\\033[0m'\n",
    "    GREEN_BOLD=GREEN+BOLD\n",
    "    RED_BOLD=RED+BOLD\n",
    "    GREEN_BOLD_UND=GREEN+BOLD+UNDERLINE\n",
    "\n",
    "rb,gb=color.RED_BOLD,color.GREEN_BOLD\n",
    "gbu,end=color.GREEN_BOLD_UND,color.END"
   ]
  },
  {
   "cell_type": "code",
   "execution_count": 4,
   "id": "f77d4873",
   "metadata": {
    "scrolled": false
   },
   "outputs": [
    {
     "data": {
      "text/plain": [
       "(4881, 7)"
      ]
     },
     "execution_count": 4,
     "metadata": {},
     "output_type": "execute_result"
    }
   ],
   "source": [
    "df.shape"
   ]
  },
  {
   "cell_type": "code",
   "execution_count": 5,
   "id": "170a958a",
   "metadata": {},
   "outputs": [
    {
     "data": {
      "text/html": [
       "<div>\n",
       "<style scoped>\n",
       "    .dataframe tbody tr th:only-of-type {\n",
       "        vertical-align: middle;\n",
       "    }\n",
       "\n",
       "    .dataframe tbody tr th {\n",
       "        vertical-align: top;\n",
       "    }\n",
       "\n",
       "    .dataframe thead th {\n",
       "        text-align: right;\n",
       "    }\n",
       "</style>\n",
       "<table border=\"1\" class=\"dataframe\">\n",
       "  <thead>\n",
       "    <tr style=\"text-align: right;\">\n",
       "      <th></th>\n",
       "      <th>Date</th>\n",
       "      <th>High</th>\n",
       "      <th>Low</th>\n",
       "      <th>Open</th>\n",
       "      <th>Close</th>\n",
       "      <th>Volume</th>\n",
       "      <th>Adj Close</th>\n",
       "    </tr>\n",
       "  </thead>\n",
       "  <tbody>\n",
       "    <tr>\n",
       "      <th>0</th>\n",
       "      <td>2002-05-23</td>\n",
       "      <td>1.242857</td>\n",
       "      <td>1.145714</td>\n",
       "      <td>1.156429</td>\n",
       "      <td>1.196429</td>\n",
       "      <td>104790000.0</td>\n",
       "      <td>1.196429</td>\n",
       "    </tr>\n",
       "    <tr>\n",
       "      <th>1</th>\n",
       "      <td>2002-05-24</td>\n",
       "      <td>1.225000</td>\n",
       "      <td>1.197143</td>\n",
       "      <td>1.214286</td>\n",
       "      <td>1.210000</td>\n",
       "      <td>11104800.0</td>\n",
       "      <td>1.210000</td>\n",
       "    </tr>\n",
       "    <tr>\n",
       "      <th>2</th>\n",
       "      <td>2002-05-28</td>\n",
       "      <td>1.232143</td>\n",
       "      <td>1.157143</td>\n",
       "      <td>1.213571</td>\n",
       "      <td>1.157143</td>\n",
       "      <td>6609400.0</td>\n",
       "      <td>1.157143</td>\n",
       "    </tr>\n",
       "    <tr>\n",
       "      <th>3</th>\n",
       "      <td>2002-05-29</td>\n",
       "      <td>1.164286</td>\n",
       "      <td>1.085714</td>\n",
       "      <td>1.164286</td>\n",
       "      <td>1.103571</td>\n",
       "      <td>6757800.0</td>\n",
       "      <td>1.103571</td>\n",
       "    </tr>\n",
       "    <tr>\n",
       "      <th>4</th>\n",
       "      <td>2002-05-30</td>\n",
       "      <td>1.107857</td>\n",
       "      <td>1.071429</td>\n",
       "      <td>1.107857</td>\n",
       "      <td>1.071429</td>\n",
       "      <td>10154200.0</td>\n",
       "      <td>1.071429</td>\n",
       "    </tr>\n",
       "  </tbody>\n",
       "</table>\n",
       "</div>"
      ],
      "text/plain": [
       "         Date      High       Low      Open     Close       Volume  Adj Close\n",
       "0  2002-05-23  1.242857  1.145714  1.156429  1.196429  104790000.0   1.196429\n",
       "1  2002-05-24  1.225000  1.197143  1.214286  1.210000   11104800.0   1.210000\n",
       "2  2002-05-28  1.232143  1.157143  1.213571  1.157143    6609400.0   1.157143\n",
       "3  2002-05-29  1.164286  1.085714  1.164286  1.103571    6757800.0   1.103571\n",
       "4  2002-05-30  1.107857  1.071429  1.107857  1.071429   10154200.0   1.071429"
      ]
     },
     "execution_count": 5,
     "metadata": {},
     "output_type": "execute_result"
    }
   ],
   "source": [
    "df.head()"
   ]
  },
  {
   "cell_type": "code",
   "execution_count": 6,
   "id": "bc2b2b1b",
   "metadata": {},
   "outputs": [
    {
     "name": "stdout",
     "output_type": "stream",
     "text": [
      "<class 'pandas.core.frame.DataFrame'>\n",
      "RangeIndex: 4881 entries, 0 to 4880\n",
      "Data columns (total 7 columns):\n",
      " #   Column     Non-Null Count  Dtype  \n",
      "---  ------     --------------  -----  \n",
      " 0   Date       4881 non-null   object \n",
      " 1   High       4881 non-null   float64\n",
      " 2   Low        4881 non-null   float64\n",
      " 3   Open       4881 non-null   float64\n",
      " 4   Close      4881 non-null   float64\n",
      " 5   Volume     4881 non-null   float64\n",
      " 6   Adj Close  4881 non-null   float64\n",
      "dtypes: float64(6), object(1)\n",
      "memory usage: 267.1+ KB\n"
     ]
    }
   ],
   "source": [
    "df.info()"
   ]
  },
  {
   "cell_type": "code",
   "execution_count": 7,
   "id": "ff7bcbb2",
   "metadata": {},
   "outputs": [
    {
     "name": "stdout",
     "output_type": "stream",
     "text": [
      "Date         datetime64[ns]\n",
      "High                float64\n",
      "Low                 float64\n",
      "Open                float64\n",
      "Close               float64\n",
      "Volume              float64\n",
      "Adj Close           float64\n",
      "dtype: object\n"
     ]
    }
   ],
   "source": [
    "df[\"Date\"]=pd.to_datetime(df[\"Date\"])\n",
    "print(df.dtypes)"
   ]
  },
  {
   "cell_type": "code",
   "execution_count": 8,
   "id": "48eb771c",
   "metadata": {
    "scrolled": true
   },
   "outputs": [
    {
     "data": {
      "text/html": [
       "<div>\n",
       "<style scoped>\n",
       "    .dataframe tbody tr th:only-of-type {\n",
       "        vertical-align: middle;\n",
       "    }\n",
       "\n",
       "    .dataframe tbody tr th {\n",
       "        vertical-align: top;\n",
       "    }\n",
       "\n",
       "    .dataframe thead th {\n",
       "        text-align: right;\n",
       "    }\n",
       "</style>\n",
       "<table border=\"1\" class=\"dataframe\">\n",
       "  <thead>\n",
       "    <tr style=\"text-align: right;\">\n",
       "      <th></th>\n",
       "      <th>Date</th>\n",
       "      <th>High</th>\n",
       "      <th>Low</th>\n",
       "      <th>Open</th>\n",
       "      <th>Close</th>\n",
       "      <th>Volume</th>\n",
       "      <th>Adj Close</th>\n",
       "      <th>Year</th>\n",
       "      <th>Month</th>\n",
       "      <th>Day</th>\n",
       "    </tr>\n",
       "  </thead>\n",
       "  <tbody>\n",
       "    <tr>\n",
       "      <th>0</th>\n",
       "      <td>2002-05-23</td>\n",
       "      <td>1.242857</td>\n",
       "      <td>1.145714</td>\n",
       "      <td>1.156429</td>\n",
       "      <td>1.196429</td>\n",
       "      <td>104790000.0</td>\n",
       "      <td>1.196429</td>\n",
       "      <td>2002</td>\n",
       "      <td>05</td>\n",
       "      <td>23</td>\n",
       "    </tr>\n",
       "    <tr>\n",
       "      <th>1</th>\n",
       "      <td>2002-05-24</td>\n",
       "      <td>1.225000</td>\n",
       "      <td>1.197143</td>\n",
       "      <td>1.214286</td>\n",
       "      <td>1.210000</td>\n",
       "      <td>11104800.0</td>\n",
       "      <td>1.210000</td>\n",
       "      <td>2002</td>\n",
       "      <td>05</td>\n",
       "      <td>24</td>\n",
       "    </tr>\n",
       "    <tr>\n",
       "      <th>2</th>\n",
       "      <td>2002-05-28</td>\n",
       "      <td>1.232143</td>\n",
       "      <td>1.157143</td>\n",
       "      <td>1.213571</td>\n",
       "      <td>1.157143</td>\n",
       "      <td>6609400.0</td>\n",
       "      <td>1.157143</td>\n",
       "      <td>2002</td>\n",
       "      <td>05</td>\n",
       "      <td>28</td>\n",
       "    </tr>\n",
       "    <tr>\n",
       "      <th>3</th>\n",
       "      <td>2002-05-29</td>\n",
       "      <td>1.164286</td>\n",
       "      <td>1.085714</td>\n",
       "      <td>1.164286</td>\n",
       "      <td>1.103571</td>\n",
       "      <td>6757800.0</td>\n",
       "      <td>1.103571</td>\n",
       "      <td>2002</td>\n",
       "      <td>05</td>\n",
       "      <td>29</td>\n",
       "    </tr>\n",
       "    <tr>\n",
       "      <th>4</th>\n",
       "      <td>2002-05-30</td>\n",
       "      <td>1.107857</td>\n",
       "      <td>1.071429</td>\n",
       "      <td>1.107857</td>\n",
       "      <td>1.071429</td>\n",
       "      <td>10154200.0</td>\n",
       "      <td>1.071429</td>\n",
       "      <td>2002</td>\n",
       "      <td>05</td>\n",
       "      <td>30</td>\n",
       "    </tr>\n",
       "  </tbody>\n",
       "</table>\n",
       "</div>"
      ],
      "text/plain": [
       "        Date      High       Low      Open     Close       Volume  Adj Close  \\\n",
       "0 2002-05-23  1.242857  1.145714  1.156429  1.196429  104790000.0   1.196429   \n",
       "1 2002-05-24  1.225000  1.197143  1.214286  1.210000   11104800.0   1.210000   \n",
       "2 2002-05-28  1.232143  1.157143  1.213571  1.157143    6609400.0   1.157143   \n",
       "3 2002-05-29  1.164286  1.085714  1.164286  1.103571    6757800.0   1.103571   \n",
       "4 2002-05-30  1.107857  1.071429  1.107857  1.071429   10154200.0   1.071429   \n",
       "\n",
       "   Year Month Day  \n",
       "0  2002    05  23  \n",
       "1  2002    05  24  \n",
       "2  2002    05  28  \n",
       "3  2002    05  29  \n",
       "4  2002    05  30  "
      ]
     },
     "execution_count": 8,
     "metadata": {},
     "output_type": "execute_result"
    }
   ],
   "source": [
    "df[\"Year\"]=df[\"Date\"].apply(lambda x:str(x)[:4])\n",
    "df[\"Month\"]=df[\"Date\"].apply(lambda x:str(x)[5:7])\n",
    "df[\"Day\"]=df[\"Date\"].apply(lambda x:str(x)[8:10])\n",
    "df.head()"
   ]
  },
  {
   "cell_type": "code",
   "execution_count": 9,
   "id": "a6a63f72",
   "metadata": {},
   "outputs": [
    {
     "name": "stdout",
     "output_type": "stream",
     "text": [
      "\u001b[91m\u001b[1mTotal number of trading days: \u001b[0m\u001b[92m\u001b[1m\u001b[4m4881\u001b[0m\n",
      "\u001b[91m\u001b[1mTotal number of fields: \u001b[0m\u001b[92m\u001b[1m\u001b[4m10\u001b[0m\n",
      "\n",
      "\n",
      "\u001b[91m\u001b[1mNull values: \u001b[0m\u001b[92m\u001b[1m\u001b[4m0\u001b[0m\n",
      "\u001b[91m\u001b[1mNA values: \u001b[0m\u001b[92m\u001b[1m\u001b[4mFalse\u001b[0m\n"
     ]
    }
   ],
   "source": [
    "print(f'{rb}Total number of trading days: {end}{gbu}{df.shape[0]}{end}')\n",
    "print(f'{rb}Total number of fields: {end}{gbu}{df.shape[1]}{end}')\n",
    "print('\\n')\n",
    "print(f'{rb}Null values: {end}{gbu}{df.isnull().values.sum()}{end}')\n",
    "print(f'{rb}NA values: {end}{gbu}{df.isna().values.any()}{end}')"
   ]
  },
  {
   "cell_type": "code",
   "execution_count": 10,
   "id": "b5632874",
   "metadata": {},
   "outputs": [],
   "source": [
    "df=df[\"Open\"].values\n",
    "df=df.reshape(-1,1)"
   ]
  },
  {
   "cell_type": "code",
   "execution_count": 11,
   "id": "e1afe112",
   "metadata": {},
   "outputs": [],
   "source": [
    "dataset_train=np.array(df[:int(df.shape[0]*0.8)])\n",
    "dataset_test=np.array(df[:int(df.shape[0]*0.8):])"
   ]
  },
  {
   "cell_type": "code",
   "execution_count": 12,
   "id": "8dfaf74d",
   "metadata": {},
   "outputs": [],
   "source": [
    "scaler=MinMaxScaler(feature_range=(0,1))\n",
    "dataset_train=scaler.fit_transform(dataset_train)\n",
    "dataset_test=scaler.transform(dataset_test)"
   ]
  },
  {
   "cell_type": "code",
   "execution_count": 13,
   "id": "0468e464",
   "metadata": {},
   "outputs": [],
   "source": [
    "def create_dataset(df):\n",
    "    x=[]\n",
    "    y=[]\n",
    "    for i in range(50,df.shape[0]):\n",
    "        x.append(df[i-50:i,0])\n",
    "        y.append(df[i,0])\n",
    "    x=np.array(x)\n",
    "    y=np.array(y)\n",
    "    return x,y"
   ]
  },
  {
   "cell_type": "code",
   "execution_count": 14,
   "id": "a40debf8",
   "metadata": {},
   "outputs": [],
   "source": [
    "x_train, y_train=create_dataset(dataset_train)\n",
    "x_test, y_test=create_dataset(dataset_test)"
   ]
  },
  {
   "cell_type": "code",
   "execution_count": 15,
   "id": "481e0bd8",
   "metadata": {},
   "outputs": [],
   "source": [
    "x_train=np.reshape(x_train,(x_train.shape[0],x_train.shape[1],1))\n",
    "x_test=np.reshape(x_test,(x_test.shape[0],x_test.shape[1],1))"
   ]
  },
  {
   "cell_type": "code",
   "execution_count": 16,
   "id": "d9c968e4",
   "metadata": {},
   "outputs": [],
   "source": [
    "model=Sequential()\n",
    "model.add(LSTM(units=96, return_sequences=True, input_shape=(x_train.shape[1],1)))\n",
    "model.add(Dropout(0.2))\n",
    "model.add(LSTM(units=96, return_sequences=True))\n",
    "model.add(Dropout(0.2))\n",
    "model.add(LSTM(units=96, return_sequences=True))\n",
    "model.add(Dropout(0.2))\n",
    "model.add(LSTM(units=96))\n",
    "model.add(Dropout(0.2))\n",
    "model.add(Dense(units=1))"
   ]
  },
  {
   "cell_type": "code",
   "execution_count": 17,
   "id": "2615a365",
   "metadata": {},
   "outputs": [
    {
     "name": "stdout",
     "output_type": "stream",
     "text": [
      "Model: \"sequential\"\n",
      "_________________________________________________________________\n",
      " Layer (type)                Output Shape              Param #   \n",
      "=================================================================\n",
      " lstm (LSTM)                 (None, 50, 96)            37632     \n",
      "                                                                 \n",
      " dropout (Dropout)           (None, 50, 96)            0         \n",
      "                                                                 \n",
      " lstm_1 (LSTM)               (None, 50, 96)            74112     \n",
      "                                                                 \n",
      " dropout_1 (Dropout)         (None, 50, 96)            0         \n",
      "                                                                 \n",
      " lstm_2 (LSTM)               (None, 50, 96)            74112     \n",
      "                                                                 \n",
      " dropout_2 (Dropout)         (None, 50, 96)            0         \n",
      "                                                                 \n",
      " lstm_3 (LSTM)               (None, 96)                74112     \n",
      "                                                                 \n",
      " dropout_3 (Dropout)         (None, 96)                0         \n",
      "                                                                 \n",
      " dense (Dense)               (None, 1)                 97        \n",
      "                                                                 \n",
      "=================================================================\n",
      "Total params: 260065 (1015.88 KB)\n",
      "Trainable params: 260065 (1015.88 KB)\n",
      "Non-trainable params: 0 (0.00 Byte)\n",
      "_________________________________________________________________\n"
     ]
    }
   ],
   "source": [
    "model.summary()"
   ]
  },
  {
   "cell_type": "code",
   "execution_count": 18,
   "id": "eb99ca7f",
   "metadata": {},
   "outputs": [],
   "source": [
    "x_train=np.reshape(x_train,(x_train.shape[0],x_train.shape[1],1))\n",
    "x_test=np.reshape(x_test,(x_test.shape[0],x_test.shape[1],1))"
   ]
  },
  {
   "cell_type": "code",
   "execution_count": 19,
   "id": "1a555890",
   "metadata": {},
   "outputs": [],
   "source": [
    "model.compile(loss='mean_squared_error',optimizer='adam')"
   ]
  },
  {
   "cell_type": "code",
   "execution_count": 20,
   "id": "39c308b5",
   "metadata": {},
   "outputs": [
    {
     "name": "stdout",
     "output_type": "stream",
     "text": [
      "Epoch 1/40\n",
      "61/61 [==============================] - 28s 276ms/step - loss: 0.0054\n",
      "Epoch 2/40\n",
      "61/61 [==============================] - 17s 275ms/step - loss: 0.0013\n",
      "Epoch 3/40\n",
      "61/61 [==============================] - 17s 276ms/step - loss: 0.0010\n",
      "Epoch 4/40\n",
      "61/61 [==============================] - 17s 276ms/step - loss: 0.0011\n",
      "Epoch 5/40\n",
      "61/61 [==============================] - 17s 282ms/step - loss: 0.0010\n",
      "Epoch 6/40\n",
      "61/61 [==============================] - 17s 280ms/step - loss: 8.2088e-04\n",
      "Epoch 7/40\n",
      "61/61 [==============================] - 17s 277ms/step - loss: 0.0011\n",
      "Epoch 8/40\n",
      "61/61 [==============================] - 17s 280ms/step - loss: 8.1244e-04\n",
      "Epoch 9/40\n",
      "61/61 [==============================] - 17s 278ms/step - loss: 7.9760e-04\n",
      "Epoch 10/40\n",
      "61/61 [==============================] - 17s 272ms/step - loss: 7.8837e-04\n",
      "Epoch 11/40\n",
      "61/61 [==============================] - 17s 278ms/step - loss: 6.7046e-04\n",
      "Epoch 12/40\n",
      "61/61 [==============================] - 17s 275ms/step - loss: 7.4242e-04\n",
      "Epoch 13/40\n",
      "61/61 [==============================] - 17s 276ms/step - loss: 0.0010\n",
      "Epoch 14/40\n",
      "61/61 [==============================] - 17s 272ms/step - loss: 8.8365e-04\n",
      "Epoch 15/40\n",
      "61/61 [==============================] - 17s 275ms/step - loss: 6.8785e-04\n",
      "Epoch 16/40\n",
      "61/61 [==============================] - 25s 405ms/step - loss: 6.1141e-04\n",
      "Epoch 17/40\n",
      "61/61 [==============================] - 20s 333ms/step - loss: 7.2513e-04\n",
      "Epoch 18/40\n",
      "61/61 [==============================] - 19s 315ms/step - loss: 7.0862e-04\n",
      "Epoch 19/40\n",
      "61/61 [==============================] - 19s 306ms/step - loss: 5.8384e-04\n",
      "Epoch 20/40\n",
      "61/61 [==============================] - 18s 296ms/step - loss: 6.1241e-04\n",
      "Epoch 21/40\n",
      "61/61 [==============================] - 18s 301ms/step - loss: 6.7672e-04\n",
      "Epoch 22/40\n",
      "61/61 [==============================] - 18s 295ms/step - loss: 6.1080e-04\n",
      "Epoch 23/40\n",
      "61/61 [==============================] - 17s 285ms/step - loss: 5.5731e-04\n",
      "Epoch 24/40\n",
      "61/61 [==============================] - 17s 281ms/step - loss: 6.4160e-04\n",
      "Epoch 25/40\n",
      "61/61 [==============================] - 17s 273ms/step - loss: 4.6994e-04\n",
      "Epoch 26/40\n",
      "61/61 [==============================] - 17s 284ms/step - loss: 6.0606e-04\n",
      "Epoch 27/40\n",
      "61/61 [==============================] - 17s 283ms/step - loss: 5.2824e-04\n",
      "Epoch 28/40\n",
      "61/61 [==============================] - 18s 294ms/step - loss: 5.5610e-04\n",
      "Epoch 29/40\n",
      "61/61 [==============================] - 17s 287ms/step - loss: 4.9099e-04\n",
      "Epoch 30/40\n",
      "61/61 [==============================] - 17s 280ms/step - loss: 5.7545e-04\n",
      "Epoch 31/40\n",
      "61/61 [==============================] - 18s 288ms/step - loss: 5.2153e-04\n",
      "Epoch 32/40\n",
      "61/61 [==============================] - 17s 274ms/step - loss: 5.6357e-04\n",
      "Epoch 33/40\n",
      "61/61 [==============================] - 17s 279ms/step - loss: 4.5863e-04\n",
      "Epoch 34/40\n",
      "61/61 [==============================] - 17s 278ms/step - loss: 5.3261e-04\n",
      "Epoch 35/40\n",
      "61/61 [==============================] - 17s 277ms/step - loss: 7.2987e-04\n",
      "Epoch 36/40\n",
      "61/61 [==============================] - 17s 276ms/step - loss: 5.0158e-04\n",
      "Epoch 37/40\n",
      "61/61 [==============================] - 17s 278ms/step - loss: 6.5871e-04\n",
      "Epoch 38/40\n",
      "61/61 [==============================] - 17s 279ms/step - loss: 4.9172e-04\n",
      "Epoch 39/40\n",
      "61/61 [==============================] - 17s 283ms/step - loss: 4.1730e-04\n",
      "Epoch 40/40\n",
      "61/61 [==============================] - 17s 278ms/step - loss: 4.4893e-04\n",
      "INFO:tensorflow:Assets written to: stock_prediction\\assets\n"
     ]
    },
    {
     "name": "stderr",
     "output_type": "stream",
     "text": [
      "INFO:tensorflow:Assets written to: stock_prediction\\assets\n"
     ]
    }
   ],
   "source": [
    "epochs=40\n",
    "batch_size=64\n",
    "model.fit(x_train,y_train,epochs=epochs,batch_size=batch_size)\n",
    "model.save('stock_prediction')"
   ]
  },
  {
   "cell_type": "code",
   "execution_count": 30,
   "id": "c72765d4",
   "metadata": {},
   "outputs": [],
   "source": [
    "model=load_model('stock_prediction')"
   ]
  },
  {
   "cell_type": "code",
   "execution_count": 33,
   "id": "59f26c43",
   "metadata": {},
   "outputs": [
    {
     "name": "stdout",
     "output_type": "stream",
     "text": [
      "121/121 [==============================] - 6s 53ms/step\n"
     ]
    }
   ],
   "source": [
    "predictions=model.predict(x_test)\n",
    "predictions=scaler.inverse_transform(predictions)\n",
    "y_test_scaled=scaler.inverse_transform(y_test.reshape(-1,1))"
   ]
  },
  {
   "cell_type": "code",
   "execution_count": 37,
   "id": "d61b012f",
   "metadata": {},
   "outputs": [
    {
     "data": {
      "image/png": "[encoded data removed]",
      "text/plain": [
       "<Figure size 2000x1500 with 1 Axes>"
      ]
     },
     "metadata": {},
     "output_type": "display_data"
    }
   ],
   "source": [
    "plt.style.use('dark_background')\n",
    "fig,ax=plt.subplots(figsize=(20,15))\n",
    "ax.set_facecolor('#000035')\n",
    "ax.plot(y_test_scaled,color='red',linewidth=2,label='Original price')\n",
    "plt.plot(predictions,color='yellow',linewidth=2.5,label='Predicted price')\n",
    "plt.title('Netflix Stock Price Prediction')\n",
    "plt.legend();"
   ]
  },
  {
   "cell_type": "code",
   "execution_count": null,
   "id": "c25bfb5f",
   "metadata": {},
   "outputs": [],
   "source": []
  }
 ],
 "metadata": {
  "kernelspec": {
   "display_name": "Python 3 (ipykernel)",
   "language": "python",
   "name": "python3"
  },
  "language_info": {
   "codemirror_mode": {
    "name": "ipython",
    "version": 3
   },
   "file_extension": ".py",
   "mimetype": "text/x-python",
   "name": "python",
   "nbconvert_exporter": "python",
   "pygments_lexer": "ipython3",
   "version": "3.11.5"
  }
 },
 "nbformat": 4,
 "nbformat_minor": 5
}
